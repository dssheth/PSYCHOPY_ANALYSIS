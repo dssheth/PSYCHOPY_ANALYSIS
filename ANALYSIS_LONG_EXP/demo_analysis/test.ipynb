{
 "cells": [
  {
   "cell_type": "code",
   "execution_count": 1,
   "metadata": {},
   "outputs": [],
   "source": [
    "from processing import process_data"
   ]
  },
  {
   "cell_type": "code",
   "execution_count": 2,
   "metadata": {},
   "outputs": [],
   "source": [
    "output_01=process_data('01_M_longexp.csv')"
   ]
  },
  {
   "cell_type": "code",
   "execution_count": 3,
   "metadata": {},
   "outputs": [
    {
     "data": {
      "text/plain": [
       "{'PID': '01',\n",
       " 'gender': 'M',\n",
       " 'trial_accuracy': np.float64(96.67),\n",
       " 'avg_rt_trials': np.float64(2.25),\n",
       " 'block_1_accuracy': np.float64(98.33),\n",
       " 'avg_rt_block1': np.float64(1.77),\n",
       " 'block_2_accuracy': np.float64(96.67),\n",
       " 'avg_rt_block2': np.float64(1.86),\n",
       " 'block_3_accuracy': np.float64(96.67),\n",
       " 'avg_rt_block3': np.float64(1.8),\n",
       " 'block_4_accuracy': np.float64(100.0),\n",
       " 'avg_rt_block4': np.float64(1.68),\n",
       " 'total_accuracy': np.float64(97.92),\n",
       " 'avg_rt_all': np.float64(1.78)}"
      ]
     },
     "execution_count": 3,
     "metadata": {},
     "output_type": "execute_result"
    }
   ],
   "source": [
    "output_01"
   ]
  }
 ],
 "metadata": {
  "kernelspec": {
   "display_name": ".venv",
   "language": "python",
   "name": "python3"
  },
  "language_info": {
   "codemirror_mode": {
    "name": "ipython",
    "version": 3
   },
   "file_extension": ".py",
   "mimetype": "text/x-python",
   "name": "python",
   "nbconvert_exporter": "python",
   "pygments_lexer": "ipython3",
   "version": "3.12.3"
  }
 },
 "nbformat": 4,
 "nbformat_minor": 2
}
