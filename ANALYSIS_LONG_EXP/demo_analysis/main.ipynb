{
 "cells": [
  {
   "cell_type": "code",
   "execution_count": 1,
   "metadata": {},
   "outputs": [],
   "source": [
    "import pandas as pd"
   ]
  },
  {
   "cell_type": "code",
   "execution_count": 2,
   "metadata": {},
   "outputs": [],
   "source": [
    "df = pd.read_csv('01_M_longexp.csv')\n",
    "\n",
    "PID='1'\n",
    "GENDER='M'"
   ]
  },
  {
   "cell_type": "markdown",
   "metadata": {},
   "source": [
    "## Exploratory Data Analysis"
   ]
  },
  {
   "cell_type": "code",
   "execution_count": null,
   "metadata": {},
   "outputs": [
    {
     "data": {
      "text/html": [
       "<div>\n",
       "<style scoped>\n",
       "    .dataframe tbody tr th:only-of-type {\n",
       "        vertical-align: middle;\n",
       "    }\n",
       "\n",
       "    .dataframe tbody tr th {\n",
       "        vertical-align: top;\n",
       "    }\n",
       "\n",
       "    .dataframe thead th {\n",
       "        text-align: right;\n",
       "    }\n",
       "</style>\n",
       "<table border=\"1\" class=\"dataframe\">\n",
       "  <thead>\n",
       "    <tr style=\"text-align: right;\">\n",
       "      <th></th>\n",
       "      <th>face_images_1</th>\n",
       "      <th>face_images_2</th>\n",
       "      <th>pos_1</th>\n",
       "      <th>pos_2</th>\n",
       "      <th>trials_30.thisRepN</th>\n",
       "      <th>trials_30.thisTrialN</th>\n",
       "      <th>trials_30.thisN</th>\n",
       "      <th>trials_30.thisIndex</th>\n",
       "      <th>main_1.thisRepN</th>\n",
       "      <th>main_1.thisTrialN</th>\n",
       "      <th>...</th>\n",
       "      <th>text_3.started</th>\n",
       "      <th>end.stopped</th>\n",
       "      <th>participant</th>\n",
       "      <th>session</th>\n",
       "      <th>date</th>\n",
       "      <th>expName</th>\n",
       "      <th>psychopyVersion</th>\n",
       "      <th>frameRate</th>\n",
       "      <th>expStart</th>\n",
       "      <th>Unnamed: 161</th>\n",
       "    </tr>\n",
       "  </thead>\n",
       "  <tbody>\n",
       "    <tr>\n",
       "      <th>0</th>\n",
       "      <td>NaN</td>\n",
       "      <td>NaN</td>\n",
       "      <td>NaN</td>\n",
       "      <td>NaN</td>\n",
       "      <td>NaN</td>\n",
       "      <td>NaN</td>\n",
       "      <td>NaN</td>\n",
       "      <td>NaN</td>\n",
       "      <td>NaN</td>\n",
       "      <td>NaN</td>\n",
       "      <td>...</td>\n",
       "      <td>NaN</td>\n",
       "      <td>NaN</td>\n",
       "      <td>320307</td>\n",
       "      <td>1</td>\n",
       "      <td>2024-07-30_13h16.21.027</td>\n",
       "      <td>final</td>\n",
       "      <td>2024.1.5</td>\n",
       "      <td>NaN</td>\n",
       "      <td>2024-07-30 13h16.25.135378 +0530</td>\n",
       "      <td>NaN</td>\n",
       "    </tr>\n",
       "    <tr>\n",
       "      <th>1</th>\n",
       "      <td>images/18n.tiff</td>\n",
       "      <td>images/18n.tiff</td>\n",
       "      <td>(0.3, 0.2)</td>\n",
       "      <td>(-0.3, 0.2)</td>\n",
       "      <td>0.0</td>\n",
       "      <td>0.0</td>\n",
       "      <td>0.0</td>\n",
       "      <td>15.0</td>\n",
       "      <td>NaN</td>\n",
       "      <td>NaN</td>\n",
       "      <td>...</td>\n",
       "      <td>NaN</td>\n",
       "      <td>NaN</td>\n",
       "      <td>320307</td>\n",
       "      <td>1</td>\n",
       "      <td>2024-07-30_13h16.21.027</td>\n",
       "      <td>final</td>\n",
       "      <td>2024.1.5</td>\n",
       "      <td>NaN</td>\n",
       "      <td>2024-07-30 13h16.25.135378 +0530</td>\n",
       "      <td>NaN</td>\n",
       "    </tr>\n",
       "    <tr>\n",
       "      <th>2</th>\n",
       "      <td>images/5n.tiff</td>\n",
       "      <td>images/4n.tiff</td>\n",
       "      <td>(0.3, 0.2)</td>\n",
       "      <td>(-0.3, 0.2)</td>\n",
       "      <td>0.0</td>\n",
       "      <td>1.0</td>\n",
       "      <td>1.0</td>\n",
       "      <td>26.0</td>\n",
       "      <td>NaN</td>\n",
       "      <td>NaN</td>\n",
       "      <td>...</td>\n",
       "      <td>NaN</td>\n",
       "      <td>NaN</td>\n",
       "      <td>320307</td>\n",
       "      <td>1</td>\n",
       "      <td>2024-07-30_13h16.21.027</td>\n",
       "      <td>final</td>\n",
       "      <td>2024.1.5</td>\n",
       "      <td>NaN</td>\n",
       "      <td>2024-07-30 13h16.25.135378 +0530</td>\n",
       "      <td>NaN</td>\n",
       "    </tr>\n",
       "    <tr>\n",
       "      <th>3</th>\n",
       "      <td>images/4n.tiff</td>\n",
       "      <td>images/10n.tiff</td>\n",
       "      <td>(0.3, 0.2)</td>\n",
       "      <td>(-0.3, 0.2)</td>\n",
       "      <td>0.0</td>\n",
       "      <td>2.0</td>\n",
       "      <td>2.0</td>\n",
       "      <td>1.0</td>\n",
       "      <td>NaN</td>\n",
       "      <td>NaN</td>\n",
       "      <td>...</td>\n",
       "      <td>NaN</td>\n",
       "      <td>NaN</td>\n",
       "      <td>320307</td>\n",
       "      <td>1</td>\n",
       "      <td>2024-07-30_13h16.21.027</td>\n",
       "      <td>final</td>\n",
       "      <td>2024.1.5</td>\n",
       "      <td>NaN</td>\n",
       "      <td>2024-07-30 13h16.25.135378 +0530</td>\n",
       "      <td>NaN</td>\n",
       "    </tr>\n",
       "    <tr>\n",
       "      <th>4</th>\n",
       "      <td>images/5n.tiff</td>\n",
       "      <td>images/4n.tiff</td>\n",
       "      <td>(0.3, 0.2)</td>\n",
       "      <td>(-0.3, 0.2)</td>\n",
       "      <td>0.0</td>\n",
       "      <td>3.0</td>\n",
       "      <td>3.0</td>\n",
       "      <td>4.0</td>\n",
       "      <td>NaN</td>\n",
       "      <td>NaN</td>\n",
       "      <td>...</td>\n",
       "      <td>NaN</td>\n",
       "      <td>NaN</td>\n",
       "      <td>320307</td>\n",
       "      <td>1</td>\n",
       "      <td>2024-07-30_13h16.21.027</td>\n",
       "      <td>final</td>\n",
       "      <td>2024.1.5</td>\n",
       "      <td>NaN</td>\n",
       "      <td>2024-07-30 13h16.25.135378 +0530</td>\n",
       "      <td>NaN</td>\n",
       "    </tr>\n",
       "  </tbody>\n",
       "</table>\n",
       "<p>5 rows × 162 columns</p>\n",
       "</div>"
      ],
      "text/plain": [
       "     face_images_1    face_images_2       pos_1        pos_2  \\\n",
       "0              NaN              NaN         NaN          NaN   \n",
       "1  images/18n.tiff  images/18n.tiff  (0.3, 0.2)  (-0.3, 0.2)   \n",
       "2   images/5n.tiff   images/4n.tiff  (0.3, 0.2)  (-0.3, 0.2)   \n",
       "3   images/4n.tiff  images/10n.tiff  (0.3, 0.2)  (-0.3, 0.2)   \n",
       "4   images/5n.tiff   images/4n.tiff  (0.3, 0.2)  (-0.3, 0.2)   \n",
       "\n",
       "   trials_30.thisRepN  trials_30.thisTrialN  trials_30.thisN  \\\n",
       "0                 NaN                   NaN              NaN   \n",
       "1                 0.0                   0.0              0.0   \n",
       "2                 0.0                   1.0              1.0   \n",
       "3                 0.0                   2.0              2.0   \n",
       "4                 0.0                   3.0              3.0   \n",
       "\n",
       "   trials_30.thisIndex  main_1.thisRepN  main_1.thisTrialN  ...  \\\n",
       "0                  NaN              NaN                NaN  ...   \n",
       "1                 15.0              NaN                NaN  ...   \n",
       "2                 26.0              NaN                NaN  ...   \n",
       "3                  1.0              NaN                NaN  ...   \n",
       "4                  4.0              NaN                NaN  ...   \n",
       "\n",
       "   text_3.started  end.stopped  participant  session                     date  \\\n",
       "0             NaN          NaN       320307        1  2024-07-30_13h16.21.027   \n",
       "1             NaN          NaN       320307        1  2024-07-30_13h16.21.027   \n",
       "2             NaN          NaN       320307        1  2024-07-30_13h16.21.027   \n",
       "3             NaN          NaN       320307        1  2024-07-30_13h16.21.027   \n",
       "4             NaN          NaN       320307        1  2024-07-30_13h16.21.027   \n",
       "\n",
       "   expName  psychopyVersion  frameRate                          expStart  \\\n",
       "0    final         2024.1.5        NaN  2024-07-30 13h16.25.135378 +0530   \n",
       "1    final         2024.1.5        NaN  2024-07-30 13h16.25.135378 +0530   \n",
       "2    final         2024.1.5        NaN  2024-07-30 13h16.25.135378 +0530   \n",
       "3    final         2024.1.5        NaN  2024-07-30 13h16.25.135378 +0530   \n",
       "4    final         2024.1.5        NaN  2024-07-30 13h16.25.135378 +0530   \n",
       "\n",
       "   Unnamed: 161  \n",
       "0           NaN  \n",
       "1           NaN  \n",
       "2           NaN  \n",
       "3           NaN  \n",
       "4           NaN  \n",
       "\n",
       "[5 rows x 162 columns]"
      ]
     },
     "execution_count": 4,
     "metadata": {},
     "output_type": "execute_result"
    }
   ],
   "source": [
    "df.head()"
   ]
  },
  {
   "cell_type": "code",
   "execution_count": null,
   "metadata": {},
   "outputs": [],
   "source": [
    "cols_to_include=[\n",
    "    'face_images_1', 'face_images_2', \n",
    "    'trial_resp.keys', \n",
    "    'trial_resp.rt',\n",
    "    'resp_1.keys',\n",
    "    'resp_1.rt', \n",
    "    'resp_2.keys',\n",
    "    'resp_2.rt', \n",
    "    'resp_3.keys',\n",
    "    'resp_3.rt',\n",
    "    'resp_4.keys',\n",
    "    'resp_4.rt'\n",
    "]"
   ]
  },
  {
   "cell_type": "code",
   "execution_count": null,
   "metadata": {},
   "outputs": [],
   "source": [
    "df=df[cols_to_include]"
   ]
  },
  {
   "cell_type": "code",
   "execution_count": null,
   "metadata": {},
   "outputs": [
    {
     "data": {
      "text/html": [
       "<div>\n",
       "<style scoped>\n",
       "    .dataframe tbody tr th:only-of-type {\n",
       "        vertical-align: middle;\n",
       "    }\n",
       "\n",
       "    .dataframe tbody tr th {\n",
       "        vertical-align: top;\n",
       "    }\n",
       "\n",
       "    .dataframe thead th {\n",
       "        text-align: right;\n",
       "    }\n",
       "</style>\n",
       "<table border=\"1\" class=\"dataframe\">\n",
       "  <thead>\n",
       "    <tr style=\"text-align: right;\">\n",
       "      <th></th>\n",
       "      <th>face_images_1</th>\n",
       "      <th>face_images_2</th>\n",
       "      <th>trial_resp.keys</th>\n",
       "      <th>trial_resp.rt</th>\n",
       "      <th>resp_1.keys</th>\n",
       "      <th>resp_1.rt</th>\n",
       "      <th>resp_2.keys</th>\n",
       "      <th>resp_2.rt</th>\n",
       "      <th>resp_3.keys</th>\n",
       "      <th>resp_3.rt</th>\n",
       "      <th>resp_4.keys</th>\n",
       "      <th>resp_4.rt</th>\n",
       "    </tr>\n",
       "  </thead>\n",
       "  <tbody>\n",
       "    <tr>\n",
       "      <th>0</th>\n",
       "      <td>NaN</td>\n",
       "      <td>NaN</td>\n",
       "      <td>NaN</td>\n",
       "      <td>NaN</td>\n",
       "      <td>NaN</td>\n",
       "      <td>NaN</td>\n",
       "      <td>NaN</td>\n",
       "      <td>NaN</td>\n",
       "      <td>NaN</td>\n",
       "      <td>NaN</td>\n",
       "      <td>NaN</td>\n",
       "      <td>NaN</td>\n",
       "    </tr>\n",
       "    <tr>\n",
       "      <th>1</th>\n",
       "      <td>images/18n.tiff</td>\n",
       "      <td>images/18n.tiff</td>\n",
       "      <td>['z']</td>\n",
       "      <td>[3.397905499999979]</td>\n",
       "      <td>NaN</td>\n",
       "      <td>NaN</td>\n",
       "      <td>NaN</td>\n",
       "      <td>NaN</td>\n",
       "      <td>NaN</td>\n",
       "      <td>NaN</td>\n",
       "      <td>NaN</td>\n",
       "      <td>NaN</td>\n",
       "    </tr>\n",
       "    <tr>\n",
       "      <th>2</th>\n",
       "      <td>images/5n.tiff</td>\n",
       "      <td>images/4n.tiff</td>\n",
       "      <td>['m']</td>\n",
       "      <td>[2.105111299999976]</td>\n",
       "      <td>NaN</td>\n",
       "      <td>NaN</td>\n",
       "      <td>NaN</td>\n",
       "      <td>NaN</td>\n",
       "      <td>NaN</td>\n",
       "      <td>NaN</td>\n",
       "      <td>NaN</td>\n",
       "      <td>NaN</td>\n",
       "    </tr>\n",
       "    <tr>\n",
       "      <th>3</th>\n",
       "      <td>images/4n.tiff</td>\n",
       "      <td>images/10n.tiff</td>\n",
       "      <td>['m']</td>\n",
       "      <td>[1.9636401999999862]</td>\n",
       "      <td>NaN</td>\n",
       "      <td>NaN</td>\n",
       "      <td>NaN</td>\n",
       "      <td>NaN</td>\n",
       "      <td>NaN</td>\n",
       "      <td>NaN</td>\n",
       "      <td>NaN</td>\n",
       "      <td>NaN</td>\n",
       "    </tr>\n",
       "    <tr>\n",
       "      <th>4</th>\n",
       "      <td>images/5n.tiff</td>\n",
       "      <td>images/4n.tiff</td>\n",
       "      <td>['m']</td>\n",
       "      <td>[1.965341599999988]</td>\n",
       "      <td>NaN</td>\n",
       "      <td>NaN</td>\n",
       "      <td>NaN</td>\n",
       "      <td>NaN</td>\n",
       "      <td>NaN</td>\n",
       "      <td>NaN</td>\n",
       "      <td>NaN</td>\n",
       "      <td>NaN</td>\n",
       "    </tr>\n",
       "  </tbody>\n",
       "</table>\n",
       "</div>"
      ],
      "text/plain": [
       "     face_images_1    face_images_2 trial_resp.keys         trial_resp.rt  \\\n",
       "0              NaN              NaN             NaN                   NaN   \n",
       "1  images/18n.tiff  images/18n.tiff           ['z']   [3.397905499999979]   \n",
       "2   images/5n.tiff   images/4n.tiff           ['m']   [2.105111299999976]   \n",
       "3   images/4n.tiff  images/10n.tiff           ['m']  [1.9636401999999862]   \n",
       "4   images/5n.tiff   images/4n.tiff           ['m']   [1.965341599999988]   \n",
       "\n",
       "  resp_1.keys resp_1.rt resp_2.keys resp_2.rt resp_3.keys resp_3.rt  \\\n",
       "0         NaN       NaN         NaN       NaN         NaN       NaN   \n",
       "1         NaN       NaN         NaN       NaN         NaN       NaN   \n",
       "2         NaN       NaN         NaN       NaN         NaN       NaN   \n",
       "3         NaN       NaN         NaN       NaN         NaN       NaN   \n",
       "4         NaN       NaN         NaN       NaN         NaN       NaN   \n",
       "\n",
       "  resp_4.keys resp_4.rt  \n",
       "0         NaN       NaN  \n",
       "1         NaN       NaN  \n",
       "2         NaN       NaN  \n",
       "3         NaN       NaN  \n",
       "4         NaN       NaN  "
      ]
     },
     "execution_count": 7,
     "metadata": {},
     "output_type": "execute_result"
    }
   ],
   "source": [
    "df.head()"
   ]
  },
  {
   "cell_type": "code",
   "execution_count": null,
   "metadata": {},
   "outputs": [
    {
     "data": {
      "text/plain": [
       "(276, 12)"
      ]
     },
     "execution_count": 8,
     "metadata": {},
     "output_type": "execute_result"
    }
   ],
   "source": [
    "df.shape"
   ]
  },
  {
   "cell_type": "code",
   "execution_count": null,
   "metadata": {},
   "outputs": [
    {
     "data": {
      "text/plain": [
       "face_images_1        6\n",
       "face_images_2        6\n",
       "trial_resp.keys    246\n",
       "trial_resp.rt      246\n",
       "resp_1.keys        216\n",
       "resp_1.rt          216\n",
       "resp_2.keys        216\n",
       "resp_2.rt          216\n",
       "resp_3.keys        216\n",
       "resp_3.rt          216\n",
       "resp_4.keys        216\n",
       "resp_4.rt          216\n",
       "dtype: int64"
      ]
     },
     "execution_count": 9,
     "metadata": {},
     "output_type": "execute_result"
    }
   ],
   "source": [
    "df.isnull().sum()"
   ]
  },
  {
   "cell_type": "markdown",
   "metadata": {},
   "source": [
    "## Creating Five Separate Dataframes for trial , block1, block2, block3, block4\n",
    "\n",
    "- Each of the dataframe should contain the face_images_1, face_images_2 columns and also their respective response keys and response time columns"
   ]
  },
  {
   "cell_type": "code",
   "execution_count": null,
   "metadata": {},
   "outputs": [],
   "source": [
    "trial_df=df[[\n",
    "    'face_images_1',\n",
    "    'face_images_2',\n",
    "    'trial_resp.keys',\n",
    "    'trial_resp.rt'\n",
    "]]\n",
    "\n",
    "block_1_df=df[[\n",
    "    'face_images_1',\n",
    "    'face_images_2',\n",
    "    'resp_1.keys',\n",
    "    'resp_1.rt'\n",
    "]]\n",
    "\n",
    "block_2_df = df[[\n",
    "    'face_images_1',\n",
    "    'face_images_2',\n",
    "    'resp_2.keys',\n",
    "    'resp_2.rt'\n",
    "]]\n",
    "\n",
    "block_3_df = df[[\n",
    "    'face_images_1',\n",
    "    'face_images_2',\n",
    "    'resp_3.keys',\n",
    "    'resp_3.rt'\n",
    "]]\n",
    "\n",
    "block_4_df = df[[\n",
    "    'face_images_1',\n",
    "    'face_images_2',\n",
    "    'resp_4.keys',\n",
    "    'resp_4.rt'\n",
    "]]"
   ]
  },
  {
   "cell_type": "code",
   "execution_count": null,
   "metadata": {},
   "outputs": [],
   "source": [
    "# Filter rows where 'trial_resp.keys' is not null\n",
    "trial_df = trial_df[trial_df['trial_resp.keys'].notna()]\n",
    "\n",
    "# Filter rows where 'resp_1.keys' is not null\n",
    "block_1_df = block_1_df[block_1_df['resp_1.keys'].notna()]\n",
    "\n",
    "# Filter rows where 'resp_2.keys' is not null\n",
    "block_2_df = block_2_df[block_2_df['resp_2.keys'].notna()]\n",
    "\n",
    "# Filter rows where 'resp_3.keys' is not null\n",
    "block_3_df = block_3_df[block_3_df['resp_3.keys'].notna()]\n",
    "\n",
    "# Filter rows where 'resp_4.keys' is not null\n",
    "block_4_df = block_4_df[block_4_df['resp_4.keys'].notna()]"
   ]
  },
  {
   "cell_type": "code",
   "execution_count": null,
   "metadata": {},
   "outputs": [
    {
     "name": "stdout",
     "output_type": "stream",
     "text": [
      "<class 'pandas.core.frame.DataFrame'>\n",
      "Index: 30 entries, 1 to 30\n",
      "Data columns (total 4 columns):\n",
      " #   Column           Non-Null Count  Dtype \n",
      "---  ------           --------------  ----- \n",
      " 0   face_images_1    30 non-null     object\n",
      " 1   face_images_2    30 non-null     object\n",
      " 2   trial_resp.keys  30 non-null     object\n",
      " 3   trial_resp.rt    30 non-null     object\n",
      "dtypes: object(4)\n",
      "memory usage: 1.2+ KB\n"
     ]
    }
   ],
   "source": [
    "trial_df.info()"
   ]
  },
  {
   "cell_type": "code",
   "execution_count": null,
   "metadata": {},
   "outputs": [
    {
     "data": {
      "text/html": [
       "<div>\n",
       "<style scoped>\n",
       "    .dataframe tbody tr th:only-of-type {\n",
       "        vertical-align: middle;\n",
       "    }\n",
       "\n",
       "    .dataframe tbody tr th {\n",
       "        vertical-align: top;\n",
       "    }\n",
       "\n",
       "    .dataframe thead th {\n",
       "        text-align: right;\n",
       "    }\n",
       "</style>\n",
       "<table border=\"1\" class=\"dataframe\">\n",
       "  <thead>\n",
       "    <tr style=\"text-align: right;\">\n",
       "      <th></th>\n",
       "      <th>face_images_1</th>\n",
       "      <th>face_images_2</th>\n",
       "      <th>trial_resp.keys</th>\n",
       "      <th>trial_resp.rt</th>\n",
       "    </tr>\n",
       "  </thead>\n",
       "  <tbody>\n",
       "    <tr>\n",
       "      <th>1</th>\n",
       "      <td>images/18n.tiff</td>\n",
       "      <td>images/18n.tiff</td>\n",
       "      <td>['z']</td>\n",
       "      <td>[3.397905499999979]</td>\n",
       "    </tr>\n",
       "    <tr>\n",
       "      <th>2</th>\n",
       "      <td>images/5n.tiff</td>\n",
       "      <td>images/4n.tiff</td>\n",
       "      <td>['m']</td>\n",
       "      <td>[2.105111299999976]</td>\n",
       "    </tr>\n",
       "    <tr>\n",
       "      <th>3</th>\n",
       "      <td>images/4n.tiff</td>\n",
       "      <td>images/10n.tiff</td>\n",
       "      <td>['m']</td>\n",
       "      <td>[1.9636401999999862]</td>\n",
       "    </tr>\n",
       "    <tr>\n",
       "      <th>4</th>\n",
       "      <td>images/5n.tiff</td>\n",
       "      <td>images/4n.tiff</td>\n",
       "      <td>['m']</td>\n",
       "      <td>[1.965341599999988]</td>\n",
       "    </tr>\n",
       "    <tr>\n",
       "      <th>5</th>\n",
       "      <td>images/5n.tiff</td>\n",
       "      <td>images/10n.tiff</td>\n",
       "      <td>['m']</td>\n",
       "      <td>[11.616839300000038]</td>\n",
       "    </tr>\n",
       "  </tbody>\n",
       "</table>\n",
       "</div>"
      ],
      "text/plain": [
       "     face_images_1    face_images_2 trial_resp.keys         trial_resp.rt\n",
       "1  images/18n.tiff  images/18n.tiff           ['z']   [3.397905499999979]\n",
       "2   images/5n.tiff   images/4n.tiff           ['m']   [2.105111299999976]\n",
       "3   images/4n.tiff  images/10n.tiff           ['m']  [1.9636401999999862]\n",
       "4   images/5n.tiff   images/4n.tiff           ['m']   [1.965341599999988]\n",
       "5   images/5n.tiff  images/10n.tiff           ['m']  [11.616839300000038]"
      ]
     },
     "execution_count": 13,
     "metadata": {},
     "output_type": "execute_result"
    }
   ],
   "source": [
    "trial_df.head()"
   ]
  },
  {
   "cell_type": "markdown",
   "metadata": {},
   "source": [
    "# Creating new column for evaluation of participant's response\n",
    "- labelling the evaluation, whether participant has answered correctly or not"
   ]
  },
  {
   "cell_type": "code",
   "execution_count": null,
   "metadata": {},
   "outputs": [],
   "source": [
    "# Initialize 'trial_resp.eval' with default values of 0\n",
    "trial_df['trial_resp.eval'] = 0\n",
    "\n",
    "# Case 1: Matching images and 'z' in trial_resp.keys\n",
    "condition_case1 = (trial_df['face_images_1'] == trial_df['face_images_2']) & (trial_df['trial_resp.keys'].str.contains('z'))\n",
    "trial_df.loc[condition_case1, 'trial_resp.eval'] = 1\n",
    "\n",
    "# Case 2: Different images and 'm' in trial_resp.keys\n",
    "condition_case2 = (trial_df['face_images_1'] != trial_df['face_images_2']) & (trial_df['trial_resp.keys'].str.contains('m'))\n",
    "trial_df.loc[condition_case2, 'trial_resp.eval'] = 1\n",
    "####################################################\n",
    "\n",
    "\n",
    "# Initialize 'resp_1.eval' with default values of 0\n",
    "block_1_df['resp_1.eval'] = 0\n",
    "\n",
    "# Case 1: Matching images and 'z' in resp_1.keys\n",
    "condition_case1 = (block_1_df['face_images_1'] == block_1_df['face_images_2']) & (block_1_df['resp_1.keys'].str.contains('z'))\n",
    "block_1_df.loc[condition_case1, 'resp_1.eval'] = 1\n",
    "\n",
    "# Case 2: Different images and 'm' in resp_1.keys\n",
    "condition_case2 = (block_1_df['face_images_1'] != block_1_df['face_images_2']) & (block_1_df['resp_1.keys'].str.contains('m'))\n",
    "block_1_df.loc[condition_case2, 'resp_1.eval'] = 1\n",
    "##################################################\n",
    "\n",
    "\n",
    "# Initialize 'resp_2.eval' with default values of 0\n",
    "block_2_df['resp_2.eval'] = 0\n",
    "\n",
    "# Case 1: Matching images and 'z' in resp_2.keys\n",
    "condition_case1 = (block_2_df['face_images_1'] == block_2_df['face_images_2']) & (block_2_df['resp_2.keys'].str.contains('z'))\n",
    "block_2_df.loc[condition_case1, 'resp_2.eval'] = 1\n",
    "\n",
    "# Case 2: Different images and 'm' in resp_2.keys\n",
    "condition_case2 = (block_2_df['face_images_1'] != block_2_df['face_images_2']) & (block_2_df['resp_2.keys'].str.contains('m'))\n",
    "block_2_df.loc[condition_case2, 'resp_2.eval'] = 1\n",
    "##################################################\n",
    "\n",
    "\n",
    "# Initialize 'resp_3.eval' with default values of 0\n",
    "block_3_df['resp_3.eval'] = 0\n",
    "\n",
    "# Case 1: Matching images and 'z' in resp_3.keys\n",
    "condition_case1 = (block_3_df['face_images_1'] == block_3_df['face_images_2']) & (block_3_df['resp_3.keys'].str.contains('z'))\n",
    "block_3_df.loc[condition_case1, 'resp_3.eval'] = 1\n",
    "\n",
    "# Case 2: Different images and 'm' in resp_3.keys\n",
    "condition_case2 = (block_3_df['face_images_1'] != block_3_df['face_images_2']) & (block_3_df['resp_3.keys'].str.contains('m'))\n",
    "block_3_df.loc[condition_case2, 'resp_3.eval'] = 1\n",
    "##################################################\n",
    "\n",
    "\n",
    "# Initialize 'resp_4.eval' with default values of 0\n",
    "block_4_df['resp_4.eval'] = 0\n",
    "\n",
    "# Case 1: Matching images and 'z' in resp_4.keys\n",
    "condition_case1 = (block_4_df['face_images_1'] == block_4_df['face_images_2']) & (block_4_df['resp_4.keys'].str.contains('z'))\n",
    "block_4_df.loc[condition_case1, 'resp_4.eval'] = 1\n",
    "\n",
    "# Case 2: Different images and 'm' in resp_4.keys\n",
    "condition_case2 = (block_4_df['face_images_1'] != block_4_df['face_images_2']) & (block_4_df['resp_4.keys'].str.contains('m'))\n",
    "block_4_df.loc[condition_case2, 'resp_4.eval'] = 1"
   ]
  },
  {
   "cell_type": "code",
   "execution_count": null,
   "metadata": {},
   "outputs": [],
   "source": [
    "# Calculate the accuracy\n",
    "trial_accuracy = (trial_df['trial_resp.eval'].sum() / len(trial_df)) * 100\n",
    "block_1_accuracy = (block_1_df['resp_1.eval'].sum() / len(block_1_df)) * 100\n",
    "block_2_accuracy = (block_2_df['resp_2.eval'].sum() / len(block_2_df)) * 100\n",
    "block_3_accuracy = (block_3_df['resp_3.eval'].sum() / len(block_3_df)) * 100\n",
    "block_4_accuracy = (block_4_df['resp_4.eval'].sum() / len(block_4_df)) * 100\n",
    "\n",
    "# Round to two decimal places\n",
    "trial_accuracy = round(trial_accuracy, 2)\n",
    "block_1_accuracy = round(block_1_accuracy, 2)\n",
    "block_2_accuracy = round(block_2_accuracy, 2)\n",
    "block_3_accuracy = round(block_3_accuracy, 2)\n",
    "block_4_accuracy = round(block_4_accuracy, 2)\n",
    "\n",
    "\n",
    "total_accuracy=round((block_1_accuracy+block_2_accuracy+block_3_accuracy+block_4_accuracy)/4, 2)"
   ]
  },
  {
   "cell_type": "code",
   "execution_count": null,
   "metadata": {},
   "outputs": [
    {
     "data": {
      "text/plain": [
       "np.float64(96.67)"
      ]
     },
     "execution_count": 16,
     "metadata": {},
     "output_type": "execute_result"
    }
   ],
   "source": [
    "trial_accuracy"
   ]
  },
  {
   "cell_type": "code",
   "execution_count": null,
   "metadata": {},
   "outputs": [
    {
     "data": {
      "text/plain": [
       "np.float64(98.33)"
      ]
     },
     "execution_count": 17,
     "metadata": {},
     "output_type": "execute_result"
    }
   ],
   "source": [
    "block_1_accuracy"
   ]
  },
  {
   "cell_type": "code",
   "execution_count": null,
   "metadata": {},
   "outputs": [
    {
     "data": {
      "text/plain": [
       "np.float64(96.67)"
      ]
     },
     "execution_count": 18,
     "metadata": {},
     "output_type": "execute_result"
    }
   ],
   "source": [
    "block_2_accuracy"
   ]
  },
  {
   "cell_type": "code",
   "execution_count": null,
   "metadata": {},
   "outputs": [
    {
     "data": {
      "text/plain": [
       "np.float64(96.67)"
      ]
     },
     "execution_count": 19,
     "metadata": {},
     "output_type": "execute_result"
    }
   ],
   "source": [
    "block_3_accuracy"
   ]
  },
  {
   "cell_type": "code",
   "execution_count": null,
   "metadata": {},
   "outputs": [
    {
     "data": {
      "text/plain": [
       "np.float64(100.0)"
      ]
     },
     "execution_count": 20,
     "metadata": {},
     "output_type": "execute_result"
    }
   ],
   "source": [
    "block_4_accuracy"
   ]
  },
  {
   "cell_type": "code",
   "execution_count": null,
   "metadata": {},
   "outputs": [
    {
     "data": {
      "text/plain": [
       "np.float64(97.92)"
      ]
     },
     "execution_count": 21,
     "metadata": {},
     "output_type": "execute_result"
    }
   ],
   "source": [
    "total_accuracy"
   ]
  },
  {
   "cell_type": "code",
   "execution_count": null,
   "metadata": {},
   "outputs": [],
   "source": [
    "# Average reaction time for trials and all four blocks\n",
    "\n",
    "# Convert reaction time columns to numeric\n",
    "trial_df['trial_resp.rt'] = pd.to_numeric(trial_df['trial_resp.rt'], errors='coerce')\n",
    "block_1_df['resp_1.rt'] = pd.to_numeric(block_1_df['resp_1.rt'], errors='coerce')\n",
    "block_2_df['resp_2.rt'] = pd.to_numeric(block_2_df['resp_2.rt'], errors='coerce')\n",
    "block_3_df['resp_3.rt'] = pd.to_numeric(block_3_df['resp_3.rt'], errors='coerce')\n",
    "block_4_df['resp_4.rt'] = pd.to_numeric(block_4_df['resp_4.rt'], errors='coerce')\n",
    "\n",
    "avg_rt_trials = (trial_df['trial_resp.rt'].sum()) / len(trial_df)\n",
    "avg_rt_block1 = (block_1_df['resp_1.rt'].sum()) / len(block_1_df)\n",
    "avg_rt_block2 = (block_2_df['resp_2.rt'].sum()) / len(block_2_df)\n",
    "avg_rt_block3 = (block_3_df['resp_3.rt'].sum()) / len(block_3_df)\n",
    "avg_rt_block4 = (block_4_df['resp_4.rt'].sum()) / len(block_4_df)\n",
    "\n",
    "avg_rt_all=round((avg_rt_block1+avg_rt_block2+avg_rt_block3+avg_rt_block4) / 4, 2)"
   ]
  },
  {
   "cell_type": "code",
   "execution_count": null,
   "metadata": {},
   "outputs": [],
   "source": [
    "output={\n",
    "    'PID': PID,\n",
    "    'gender': GENDER,\n",
    "\n",
    "    'trial_accuracy': trial_accuracy,\n",
    "    'avg_rt_trials': avg_rt_trials,\n",
    "\n",
    "    'block_1_accuracy': block_1_accuracy,\n",
    "    'avg_rt_block1': avg_rt_block1,\n",
    "\n",
    "    'block_2_accuracy': block_2_accuracy,\n",
    "    'avg_rt_block2': avg_rt_block2,\n",
    "\n",
    "    'block_3_accuracy': block_3_accuracy,\n",
    "    'avg_rt_block3': avg_rt_block3,\n",
    "\n",
    "    'block_4_accuracy': block_4_accuracy,\n",
    "    'avg_rt_block4': avg_rt_block4,\n",
    "\n",
    "    'total_accuracy': total_accuracy,\n",
    "    'avg_rt_all': avg_rt_all\n",
    "}"
   ]
  },
  {
   "cell_type": "code",
   "execution_count": null,
   "metadata": {},
   "outputs": [
    {
     "data": {
      "text/plain": [
       "{'PID': '1',\n",
       " 'gender': 'M',\n",
       " 'trial_accuracy': np.float64(96.67),\n",
       " 'avg_rt_trials': np.float64(0.0),\n",
       " 'block_1_accuracy': np.float64(98.33),\n",
       " 'avg_rt_block1': np.float64(0.0),\n",
       " 'block_2_accuracy': np.float64(96.67),\n",
       " 'avg_rt_block2': np.float64(0.0),\n",
       " 'block_3_accuracy': np.float64(96.67),\n",
       " 'avg_rt_block3': np.float64(0.0),\n",
       " 'block_4_accuracy': np.float64(100.0),\n",
       " 'avg_rt_block4': np.float64(0.0),\n",
       " 'total_accuracy': np.float64(97.92),\n",
       " 'avg_rt_all': np.float64(0.0)}"
      ]
     },
     "execution_count": 24,
     "metadata": {},
     "output_type": "execute_result"
    }
   ],
   "source": [
    "output"
   ]
  },
  {
   "cell_type": "code",
   "execution_count": null,
   "metadata": {},
   "outputs": [],
   "source": []
  }
 ],
 "metadata": {
  "kernelspec": {
   "display_name": ".venv",
   "language": "python",
   "name": "python3"
  },
  "language_info": {
   "codemirror_mode": {
    "name": "ipython",
    "version": 3
   },
   "file_extension": ".py",
   "mimetype": "text/x-python",
   "name": "python",
   "nbconvert_exporter": "python",
   "pygments_lexer": "ipython3",
   "version": "3.12.3"
  }
 },
 "nbformat": 4,
 "nbformat_minor": 2
}
